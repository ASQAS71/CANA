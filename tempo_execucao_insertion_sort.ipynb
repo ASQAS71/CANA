{
  "nbformat": 4,
  "nbformat_minor": 0,
  "metadata": {
    "colab": {
      "provenance": [],
      "authorship_tag": "ABX9TyM9bmSeSABaClsE4Vujek1o",
      "include_colab_link": true
    },
    "kernelspec": {
      "name": "python3",
      "display_name": "Python 3"
    },
    "language_info": {
      "name": "python"
    }
  },
  "cells": [
    {
      "cell_type": "markdown",
      "metadata": {
        "id": "view-in-github",
        "colab_type": "text"
      },
      "source": [
        "<a href=\"https://colab.research.google.com/github/ASQAS71/CANA/blob/main/tempo_execucao_insertion_sort.ipynb\" target=\"_parent\"><img src=\"https://colab.research.google.com/assets/colab-badge.svg\" alt=\"Open In Colab\"/></a>"
      ]
    },
    {
      "cell_type": "markdown",
      "source": [
        "#Instalação de bibliotecas"
      ],
      "metadata": {
        "id": "BjhIuVjwEijQ"
      }
    },
    {
      "cell_type": "code",
      "source": [
        "!pip install pandas\n",
        "!pip install openpyxl\n",
        "!pip install matplotlib\n",
        "!pip install copy\n",
        "!pip install timeit\n",
        "!pip install secrets"
      ],
      "metadata": {
        "id": "dfQ6O7fhzvHV"
      },
      "execution_count": null,
      "outputs": []
    },
    {
      "cell_type": "markdown",
      "source": [
        "#Importação de bibliotecas"
      ],
      "metadata": {
        "id": "2sz18yYkXgvL"
      }
    },
    {
      "cell_type": "code",
      "source": [
        "import pandas as pd\n",
        "import matplotlib.pyplot as plt\n",
        "from copy import deepcopy\n",
        "from timeit import timeit\n",
        "import secrets"
      ],
      "metadata": {
        "id": "qiM_0renz500"
      },
      "execution_count": null,
      "outputs": []
    },
    {
      "cell_type": "markdown",
      "source": [
        "#Descomente essa célula e reinicie o ambiente de execução caso você prefira os números em notação científica"
      ],
      "metadata": {
        "id": "rU8MGC7YE05v"
      }
    },
    {
      "cell_type": "code",
      "source": [
        "# pd.set_option('display.float_format', '{:.2e}'.format)"
      ],
      "metadata": {
        "id": "uteHAtQ28hJn"
      },
      "execution_count": null,
      "outputs": []
    },
    {
      "cell_type": "markdown",
      "source": [
        "#Implementação do algoritmo insertSort"
      ],
      "metadata": {
        "id": "Xgy4EihNFD__"
      }
    },
    {
      "cell_type": "code",
      "source": [
        "def insertSort(lista: list) -> None:\n",
        "    for index_comparable in range(1, len(lista)):\n",
        "        key = lista[index_comparable]\n",
        "        index_to_compare_with = index_comparable - 1\n",
        "        while index_to_compare_with >= 0 and lista[index_to_compare_with] > key:\n",
        "            lista[index_to_compare_with + 1] = lista[index_to_compare_with]\n",
        "            index_to_compare_with -= 1\n",
        "        lista[index_to_compare_with + 1] = key"
      ],
      "metadata": {
        "id": "-ecCpRyCz8Ad"
      },
      "execution_count": null,
      "outputs": []
    },
    {
      "cell_type": "markdown",
      "source": [
        "#Funções auxiliares"
      ],
      "metadata": {
        "id": "S-Pl3JLhFMCe"
      }
    },
    {
      "cell_type": "code",
      "source": [
        "def generate_random_list(length: int, max_val: int) -> list:\n",
        "    return [secrets.randbelow(max_val) for _ in range(length)]\n",
        "\n",
        "\n",
        "def getOrderedList(array: list) -> list:\n",
        "    copia = deepcopy(array)\n",
        "    insertSort(copia)\n",
        "    return copia"
      ],
      "metadata": {
        "id": "u2fF_0fEz-z8"
      },
      "execution_count": null,
      "outputs": []
    },
    {
      "cell_type": "markdown",
      "source": [
        "#Geração dos casos"
      ],
      "metadata": {
        "id": "eOyEFSiLFPgm"
      }
    },
    {
      "cell_type": "code",
      "source": [
        "melhor_caso = [i for i in range(10)]\n",
        "pior_caso = [i for i in range(10, 0, -1)]\n",
        "\n",
        "casos_tipicos = [generate_random_list(10, 11) for _ in range(25)]"
      ],
      "metadata": {
        "id": "TNwLOetg0Apc"
      },
      "execution_count": null,
      "outputs": []
    },
    {
      "cell_type": "markdown",
      "source": [
        "#Geração da lista de objetos para criação posteriora do dataframe"
      ],
      "metadata": {
        "id": "WyMkx0a5FStn"
      }
    },
    {
      "cell_type": "code",
      "source": [
        "dados = [\n",
        "    {\n",
        "        \"Caso\": \"Melhor\",\n",
        "        \"Lista não tratada\": melhor_caso,\n",
        "        \"Lista tratada\": getOrderedList(melhor_caso),\n",
        "        \"Tempo de 10 mil execuções (segundos)\": timeit(lambda: insertSort(melhor_caso[:]), number=10000),\n",
        "        \"Tempo de 100 mil execuções (segundos)\": timeit(lambda: insertSort(melhor_caso[:]), number=100000),\n",
        "        \"Tempo de 1 milhão execuções (segundos)\": timeit(lambda: insertSort(melhor_caso[:]), number=1000000)\n",
        "    },\n",
        "    {\n",
        "        \"Caso\": \"Pior\",\n",
        "        \"Lista não tratada\": pior_caso,\n",
        "        \"Lista tratada\": getOrderedList(pior_caso),\n",
        "        \"Tempo de 10 mil execuções (segundos)\": timeit(lambda: insertSort(pior_caso[:]), number=10000),\n",
        "        \"Tempo de 100 mil execuções (segundos)\": timeit(lambda: insertSort(pior_caso[:]), number=100000),\n",
        "        \"Tempo de 1 milhão execuções (segundos)\": timeit(lambda: insertSort(pior_caso[:]), number=1000000)\n",
        "    }\n",
        "]\n",
        "\n",
        "for index, caso in enumerate(casos_tipicos, 1):\n",
        "    while caso == melhor_caso or caso == pior_caso:\n",
        "        caso = generate_random_list(10, 11)\n",
        "\n",
        "    dados.append({\n",
        "        \"Caso\": f\"Típico\",\n",
        "        \"Lista não tratada\": caso,\n",
        "        \"Lista tratada\": getOrderedList(caso),\n",
        "        \"Tempo de 10 mil execuções (segundos)\": timeit(lambda: insertSort(caso[:]), number=10000),\n",
        "        \"Tempo de 100 mil execuções (segundos)\": timeit(lambda: insertSort(caso[:]), number=100000),\n",
        "        \"Tempo de 1 milhão execuções (segundos)\": timeit(lambda: insertSort(caso[:]), number=1000000)\n",
        "    })"
      ],
      "metadata": {
        "id": "-w9j1p_n0EW8"
      },
      "execution_count": null,
      "outputs": []
    },
    {
      "cell_type": "markdown",
      "source": [
        "#Criação do dataframe"
      ],
      "metadata": {
        "id": "HaICjZyNFYtv"
      }
    },
    {
      "cell_type": "code",
      "source": [
        "df = pd.DataFrame(dados)\n",
        "\n",
        "df.head(50)"
      ],
      "metadata": {
        "id": "FiwWRsWe0Ges"
      },
      "execution_count": null,
      "outputs": []
    },
    {
      "cell_type": "markdown",
      "source": [
        "#Adição da coluna tempo de execução médio"
      ],
      "metadata": {
        "id": "i4HkAsMqFcpR"
      }
    },
    {
      "cell_type": "code",
      "source": [
        "# Criação de colunas temporárias que calculam o tempo médio por execução para cada coluna\n",
        "df[\"Tempo médio (10 mil)\"] = df[\"Tempo de 10 mil execuções (segundos)\"] / 10_000\n",
        "df[\"Tempo médio (100 mil)\"] = df[\"Tempo de 100 mil execuções (segundos)\"] / 100_000\n",
        "df[\"Tempo médio (1 milhão)\"] = df[\"Tempo de 1 milhão execuções (segundos)\"] / 1_000_000\n",
        "\n",
        "# Calcular a média desses tempos para criar a nova coluna\n",
        "df[\"Tempo de execução médio\"] = df[[\"Tempo médio (10 mil)\", \"Tempo médio (100 mil)\", \"Tempo médio (1 milhão)\"]].mean(axis=1)\n",
        "\n",
        "# Drop das colunas temporárias\n",
        "df = df.drop(columns=[\"Tempo médio (10 mil)\", \"Tempo médio (100 mil)\", \"Tempo médio (1 milhão)\"])\n",
        "\n",
        "df.head(50)"
      ],
      "metadata": {
        "id": "IvRlBrDE6ZSX"
      },
      "execution_count": null,
      "outputs": []
    },
    {
      "cell_type": "markdown",
      "source": [
        "#Criação do excel"
      ],
      "metadata": {
        "id": "iVOf-ZcJFqL2"
      }
    },
    {
      "cell_type": "code",
      "source": [
        "nome_arquivo = \"execucao_insertion_sort.xlsx\"\n",
        "df.to_excel(nome_arquivo, engine='openpyxl')"
      ],
      "metadata": {
        "id": "lhy0wSZL83Tn"
      },
      "execution_count": null,
      "outputs": []
    },
    {
      "cell_type": "markdown",
      "source": [
        "#Criação de uma versão simplificada do dataframe"
      ],
      "metadata": {
        "id": "s80VzUicFsO3"
      }
    },
    {
      "cell_type": "code",
      "source": [
        "df_simplificado = df.drop(columns=[\"Lista não tratada\", \"Lista tratada\"])\n",
        "\n",
        "df_simplificado.head(50)"
      ],
      "metadata": {
        "id": "75uTiGBl2q0c"
      },
      "execution_count": null,
      "outputs": []
    },
    {
      "cell_type": "markdown",
      "source": [
        "#Transformar o dataframe simplificado em um excel"
      ],
      "metadata": {
        "id": "t4PPPUrTFx0X"
      }
    },
    {
      "cell_type": "code",
      "source": [
        "nome_arquivo = \"execucao_insertion_sort_simplificado.xlsx\"\n",
        "df_simplificado.to_excel(nome_arquivo, engine='openpyxl')"
      ],
      "metadata": {
        "id": "Sb0AHwkk9Qbm"
      },
      "execution_count": null,
      "outputs": []
    },
    {
      "cell_type": "markdown",
      "source": [
        "#Gráfico de colunas: Média dos Tempos de 1 milhão de execuções por Caso"
      ],
      "metadata": {
        "id": "kg0NUQnyIDAf"
      }
    },
    {
      "cell_type": "code",
      "source": [
        "# Filtrando o dataframe para obter as médias por caso\n",
        "media_melhor_caso = df[df['Caso'] == 'Melhor']['Tempo de 1 milhão execuções (segundos)'].mean()\n",
        "media_pior_caso = df[df['Caso'] == 'Pior']['Tempo de 1 milhão execuções (segundos)'].mean()\n",
        "media_tipico = df[df['Caso'].str.contains('Típico')]['Tempo de 1 milhão execuções (segundos)'].mean()\n",
        "\n",
        "# Defina os rótulos e valores\n",
        "labels = ['Melhor Caso', 'Pior Caso', 'Caso Típico']\n",
        "values = [media_melhor_caso, media_pior_caso, media_tipico]\n",
        "\n",
        "plt.figure(figsize=(10,6))\n",
        "bars = plt.bar(labels, values, color=['MediumSlateBlue', 'OrangeRed', 'MediumSeaGreen'])\n",
        "\n",
        "# Adicionando título e labels aos eixos\n",
        "plt.title('Média dos Tempos de Execução por Caso')\n",
        "plt.xlabel('Caso')\n",
        "plt.ylabel('Tempo médio (segundos)')\n",
        "\n",
        "# Mostra os valores nas barras\n",
        "for bar in bars:\n",
        "    yval = bar.get_height()\n",
        "    plt.text(bar.get_x() + bar.get_width()/2, yval + 0.005, round(yval, 2), ha='center', va='bottom')\n",
        "\n",
        "plt.show()"
      ],
      "metadata": {
        "id": "62XwSm9aGncn"
      },
      "execution_count": null,
      "outputs": []
    }
  ]
}