{
  "nbformat": 4,
  "nbformat_minor": 0,
  "metadata": {
    "colab": {
      "provenance": [],
      "collapsed_sections": [
        "OIDt31Kh4RPc"
      ],
      "authorship_tag": "ABX9TyOQ7F3o3/YKkDZiwnZXrjHK",
      "include_colab_link": true
    },
    "kernelspec": {
      "name": "python3",
      "display_name": "Python 3"
    },
    "language_info": {
      "name": "python"
    }
  },
  "cells": [
    {
      "cell_type": "markdown",
      "metadata": {
        "id": "view-in-github",
        "colab_type": "text"
      },
      "source": [
        "<a href=\"https://colab.research.google.com/github/ASQAS71/CANA/blob/main/trabalhoCANA.ipynb\" target=\"_parent\"><img src=\"https://colab.research.google.com/assets/colab-badge.svg\" alt=\"Open In Colab\"/></a>"
      ]
    },
    {
      "cell_type": "markdown",
      "source": [
        "#Importação de Bibliotecas"
      ],
      "metadata": {
        "id": "OIDt31Kh4RPc"
      }
    },
    {
      "cell_type": "code",
      "source": [
        "from typing import Callable\n",
        "import math\n",
        "from time import time, sleep\n",
        "from timeit import timeit\n",
        "import pandas as pd\n",
        "import matplotlib.pyplot as plt\n",
        "import plotly.express as px"
      ],
      "metadata": {
        "id": "GiTJrFoi4V5K"
      },
      "execution_count": null,
      "outputs": []
    },
    {
      "cell_type": "markdown",
      "source": [
        "#PASSO 1\n",
        "\n",
        "Implemente os métodos em Java ou equivalente em outra linguagem de programação."
      ],
      "metadata": {
        "id": "g8jQi5ImCmUU"
      }
    },
    {
      "cell_type": "markdown",
      "source": [
        "Métodos retornam uma tupla: (parametro, valor, tempo)"
      ],
      "metadata": {
        "id": "S5JULYXl34A0"
      }
    },
    {
      "cell_type": "code",
      "execution_count": null,
      "metadata": {
        "id": "M25KYvKk3XUh"
      },
      "outputs": [],
      "source": [
        "def metodo1(n: int, sleeptime: float) -> tuple[int, int, float]:\n",
        "  inicio: float = time() * 1000\n",
        "  valor: int = 0\n",
        "  termo: int = n*n*n*n\n",
        "  sleep(sleeptime)\n",
        "  for i in range(1, 5):\n",
        "    valor += termo\n",
        "    sleep(sleeptime)\n",
        "  fim: float = time() * 1000\n",
        "  tempo: float = fim - inicio\n",
        "  return n, valor, tempo"
      ]
    },
    {
      "cell_type": "code",
      "source": [
        "def metodo2(n: int, sleeptime: float) -> tuple[int, int, float]:\n",
        "  inicio: float = time() * 1000\n",
        "  valor: int = 0\n",
        "  termo: int = 4*n*n*n\n",
        "  sleep(sleeptime)\n",
        "  for i in range(1, n+1):\n",
        "    valor += termo\n",
        "    sleep(sleeptime)\n",
        "  fim: float = time() * 1000\n",
        "  tempo: float = fim - inicio\n",
        "  return n, valor, tempo"
      ],
      "metadata": {
        "id": "adpyb2Ur8_u8"
      },
      "execution_count": null,
      "outputs": []
    },
    {
      "cell_type": "code",
      "source": [
        "def metodo3(n: int, sleeptime: float) -> tuple[int, int, float]:\n",
        "  inicio: float = time() * 1000\n",
        "  valor: int = 0\n",
        "  termo: int = n*n*n\n",
        "  sleep(sleeptime)\n",
        "  for i in range(1, 5):\n",
        "    for j in range(1, n+1):\n",
        "      valor += termo\n",
        "      sleep(sleeptime)\n",
        "  fim: float = time() * 1000\n",
        "  tempo: float = fim - inicio\n",
        "  return n, valor, tempo"
      ],
      "metadata": {
        "id": "fs8zU-9g_IDV"
      },
      "execution_count": null,
      "outputs": []
    },
    {
      "cell_type": "code",
      "source": [
        "def metodo4(n: int, sleeptime: float) -> tuple[int, int, float]:\n",
        "  inicio: float = time() * 1000\n",
        "  valor: int = 0\n",
        "  termo: int = n*n\n",
        "  sleep(sleeptime)\n",
        "  for i in range(1, 3):\n",
        "    for j in range(1, 3):\n",
        "      valor += termo\n",
        "      sleep(sleeptime)\n",
        "  fim: float = time() * 1000\n",
        "  tempo: float = fim - inicio\n",
        "  return n, valor, tempo"
      ],
      "metadata": {
        "id": "D68wF_GY_id0"
      },
      "execution_count": null,
      "outputs": []
    },
    {
      "cell_type": "code",
      "source": [
        "def metodo5(n: int, sleeptime: float) -> tuple[int, int, float]:\n",
        "  inicio: float = time() * 1000\n",
        "  valor: int = 0\n",
        "  termo: int = 4*n\n",
        "  sleep(sleeptime)\n",
        "  for i in range(1, n+1):\n",
        "    for j in range(1, n+1):\n",
        "      for k in range(1, n+1):\n",
        "        valor += termo\n",
        "        sleep(sleeptime)\n",
        "  fim: float = time() * 1000\n",
        "  tempo: float = fim - inicio\n",
        "  return n, valor, tempo"
      ],
      "metadata": {
        "id": "NGoveKTLAQGU"
      },
      "execution_count": null,
      "outputs": []
    },
    {
      "cell_type": "markdown",
      "source": [
        "#PASSO 2\n",
        "\n",
        "Execução e análise dos métodos"
      ],
      "metadata": {
        "id": "-HIbY9fQHXje"
      }
    },
    {
      "cell_type": "code",
      "source": [
        "#função auxiliar que retorna os dados do dataFrame\n",
        "def getData(calls: int, sleeptime: float, metodos=[metodo1, metodo2, metodo3, metodo4, metodo5]) -> list[dict]:\n",
        "  dados = []\n",
        "  for metodo in metodos:\n",
        "    for i in range(calls):\n",
        "      methodExecutionInfo: tuple = metodo(i, sleeptime)\n",
        "      instancia = {\n",
        "        \"Método\" : metodo.__name__,\n",
        "        \"Parâmetro\" : methodExecutionInfo[0],\n",
        "        \"Valor\" : methodExecutionInfo[1],\n",
        "        \"Tempo de Execução (ms)\" : methodExecutionInfo[2]\n",
        "      }\n",
        "      dados.append(instancia)\n",
        "  return dados"
      ],
      "metadata": {
        "id": "nE6s54diHnol"
      },
      "execution_count": null,
      "outputs": []
    },
    {
      "cell_type": "code",
      "source": [
        "dados: list[dict] = getData(11, 0.001)\n",
        "df = pd.DataFrame(dados)\n",
        "df.head(100)"
      ],
      "metadata": {
        "id": "8NeWSX7_Nb__"
      },
      "execution_count": null,
      "outputs": []
    },
    {
      "cell_type": "code",
      "source": [
        "# Calculando as estatísticas desejadas para cada método\n",
        "grouped = df.groupby('Método')['Tempo de Execução (ms)']\n",
        "\n",
        "# Média e mediana\n",
        "mean = grouped.mean()\n",
        "median = grouped.median()\n",
        "\n",
        "# Preparando os dados para plotagem\n",
        "plot_data = pd.concat([\n",
        "    pd.DataFrame({'Método': mean.index, 'Estatística': 'Média', 'Valor': mean.values}),\n",
        "    pd.DataFrame({'Método': median.index, 'Estatística': 'Mediana', 'Valor': median.values})\n",
        "])\n",
        "\n",
        "# Criando o gráfico interativo\n",
        "fig = px.bar(plot_data, x='Método', y='Valor', color='Estatística',\n",
        "             title=\"Comparação dos Métodos: Média vs Mediana dos tempos de execução (ms)\",\n",
        "             labels={'Valor': 'Tempo de Execução (ms)'},\n",
        "             barmode='group')\n",
        "\n",
        "# Exibindo o gráfico\n",
        "fig.show()"
      ],
      "metadata": {
        "id": "d4ZTGCXQYnGV"
      },
      "execution_count": null,
      "outputs": []
    },
    {
      "cell_type": "markdown",
      "source": [
        "#PASSO 3\n",
        "\n",
        "Análise de complexidade dos métodos"
      ],
      "metadata": {
        "id": "1Vo-majzhVSD"
      }
    },
    {
      "cell_type": "markdown",
      "source": [
        "##Método 1"
      ],
      "metadata": {
        "id": "ihrlHB6kiPBs"
      }
    },
    {
      "cell_type": "markdown",
      "source": [
        "| Número da linha | Custo de uma operação | Número de operações | Custo total (Custo * nº operações) |\n",
        "|:-----------------:|:-----------------------:|:---------------------:|:-----------------------------------:|\n",
        "| 1               | C1               | 1                   | C1                           |\n",
        "| 2               | C2               | 1                   | C2                           |\n",
        "| 3               | C3               | 1                   | C3                           |\n",
        "| 4               | C4              | 1                   | C4                           |\n",
        "| 5               | C5               | 1                   | C5                           |\n",
        "| 6               | C6               | 4                   | 5 * C6                 |\n",
        "| 7               | C7               | 4                   | 4 * C7                  |\n",
        "| 8               | C8               | 4                   | 4 * C8                  |\n",
        "| 9               | C9               | 1                   | C9                           |\n",
        "| 10              | C10            | 1                   | C10                        |\n",
        "\n",
        "\n",
        "**Custo total do método não varia em função de n.**\n",
        "\n",
        "**Complexidade: O(1)**"
      ],
      "metadata": {
        "id": "7i676IoOke3K"
      }
    },
    {
      "cell_type": "markdown",
      "source": [
        "##Método 2"
      ],
      "metadata": {
        "id": "WjWHSgIgpGiM"
      }
    },
    {
      "cell_type": "markdown",
      "source": [
        "| Número da linha | Custo de uma operação | Nº de operações | Custo total          |\n",
        "|:--------:|:------------------------:|:-----------------:|:----------------------:|\n",
        "| 1      | C1                     | 1               | C1 * 1               |\n",
        "| 2      | C2                     | 1               | C2 * 1               |\n",
        "| 3      | C3                     | 1               | C3 * 1               |\n",
        "| 4      | C4                     | 1               | C4 * 1               |\n",
        "| 5      | C5                     | n+1             | C5 * (n+1)           |\n",
        "| 6      | C6                     | n               | C6 * n               |\n",
        "| 7      | C7                     | n               | C7 * n               |\n",
        "| 8      | C8                     | 1               | C8 * 1               |\n",
        "| 9      | C9                     | 1               | C9 * 1               |\n",
        "| 10     | C10                    | 1               | C10 * 1              |\n",
        "\n",
        "**Custo total do método varia linearmente em função de n**\n",
        "\n",
        "**Complexidade: O(n)**"
      ],
      "metadata": {
        "id": "dU3hWn5L3gAh"
      }
    },
    {
      "cell_type": "markdown",
      "source": [
        "## Método 3"
      ],
      "metadata": {
        "id": "Cwvj5hRK6tah"
      }
    },
    {
      "cell_type": "markdown",
      "source": [
        "| Número | Custo de uma operação | Nº de operações| Custo total        |\n",
        "|:------:|:---------------------:|:--------------:|:------------------:|\n",
        "|   1    |          C1           |       1        |      C1 * 1        |\n",
        "|   2    |          C2           |       1        |      C2 * 1        |\n",
        "|   3    |          C3           |       1        |      C3 * 1        |\n",
        "|   4    |          C4           |       1        |      C4 * 1        |\n",
        "|   5    |          C5           |       5        |      C5 * 5        |\n",
        "|   6    |          C6           |    4*(n+1)     |   C6 * 4*(n+1)     |\n",
        "|   7    |          C7           |       4*n      |      C7 * 4*n      |\n",
        "|   8    |          C8           |       4*n      |      C8 * 4*n      |\n",
        "|   9    |          C9           |       4*n      |      C9 * 4*n      |\n",
        "|  10    |          C10          |       1        |      C10 * 1       |\n",
        "|  11    |          C11          |       1        |      C11 * 1       |\n",
        "\n",
        "**Custo total do método varia linearmente em função de n**\n",
        "\n",
        "**Complexidade: O(n)**"
      ],
      "metadata": {
        "id": "1FcuTaf96vUQ"
      }
    },
    {
      "cell_type": "markdown",
      "source": [
        "## Método 4"
      ],
      "metadata": {
        "id": "rVcbtIs-9iMx"
      }
    },
    {
      "cell_type": "markdown",
      "source": [
        "| Número | Custo de uma operação | Nº de operações| Custo total        |\n",
        "|:------:|:---------------------:|:--------------:|:------------------:|\n",
        "|   1    |          C1           |       1        |      C1 * 1        |\n",
        "|   2    |          C2           |       1        |      C2 * 1        |\n",
        "|   3    |          C3           |       1        |      C3 * 1        |\n",
        "|   4    |          C4           |       1        |      C4 * 1        |\n",
        "|   5    |          C5           |       3        |      C5 * 3        |\n",
        "|   6    |          C6           |       3        |      C6 * 3        |\n",
        "|   7    |          C7           |       4        |      C7 * 4        |\n",
        "|   8    |          C8           |       4        |      C8 * 4        |\n",
        "|   9    |          C9           |       1        |      C9 * 1        |\n",
        "|  10    |          C10          |       1        |      C10 * 1       |\n",
        "|  11    |          C11          |       1        |      C11 * 1       |\n",
        "\n",
        "**Custo total do método não varia em função de n.**\n",
        "\n",
        "**Complexidade: O(1)**"
      ],
      "metadata": {
        "id": "SOkYfODI9jsJ"
      }
    },
    {
      "cell_type": "markdown",
      "source": [
        "## Método 5"
      ],
      "metadata": {
        "id": "LEfz6bz79r5Z"
      }
    },
    {
      "cell_type": "markdown",
      "source": [
        "| Número | Custo de uma operação | Nº de operações| Custo total        |\n",
        "|:------:|:---------------------:|:--------------:|:------------------:|\n",
        "|   1    |          C1           |       1        |      C1 * 1        |\n",
        "|   2    |          C2           |       1        |      C2 * 1        |\n",
        "|   3    |          C3           |       1        |      C3 * 1        |\n",
        "|   4    |          C4           |       1        |      C4 * 1        |\n",
        "|   5    |          C5           |      n+1       |   C5 * (n+1)       |\n",
        "|   6    |          C6           |    n * (n+1)     |   C6 * n*(n+1)     |\n",
        "|   7    |          C7           |  n * n * (n+1)     |   C7 * n * n *(n+1)   |\n",
        "|   8    |          C8           |     n * n * n      |   C8 * n * n * n       |\n",
        "|   9    |          C9           |     n * n * n      |   C9 * n * n * n       |\n",
        "|  10    |          C10          |       1        |      C10 * 1       |\n",
        "|  11    |          C11          |       1        |      C11 * 1       |\n",
        "|  12    |          C12          |       1        |      C12 * 1       |\n",
        "\n",
        "**Custo total do método varia cubicamente em função de n**\n",
        "\n",
        "**Complexidade: O(n³)**"
      ],
      "metadata": {
        "id": "-gQiCoqM9tlB"
      }
    },
    {
      "cell_type": "markdown",
      "source": [
        "#PASSO 4\n",
        "\n",
        "Explicar a que se deve a variação de tempo de execução para o método metodo1"
      ],
      "metadata": {
        "id": "mnxdAw6gTI50"
      }
    },
    {
      "cell_type": "markdown",
      "source": [
        "#PASSO 5\n",
        "\n",
        "Comparação de tempos de execução (métodos 2 e 3)"
      ],
      "metadata": {
        "id": "SopWn9PqTMRw"
      }
    },
    {
      "cell_type": "markdown",
      "source": [
        "##ITEM A:\n",
        "\n",
        "Em seu experimento, qual método tem melhor tempo de execução: metodo2 ou metodo3?"
      ],
      "metadata": {
        "id": "J84TT2OaTSNB"
      }
    },
    {
      "cell_type": "code",
      "source": [
        "# Crie uma máscara para selecionar apenas os métodos 2 e 3\n",
        "mascara = df['Método'].isin([\"metodo2\",\"metodo3\"])\n",
        "\n",
        "# Aplique a máscara para filtrar o dataframe\n",
        "df_filtrado = df[mascara]\n",
        "\n",
        "# Agrupe os dados por Método e Parâmetro e calcule a média dos tempos de execução\n",
        "df_agrupado = df_filtrado.groupby(['Método', 'Parâmetro'])['Tempo de Execução (ms)'].mean().reset_index()\n",
        "\n",
        "# Crie um gráfico de barras\n",
        "fig = px.bar(df_agrupado, x='Parâmetro', y='Tempo de Execução (ms)', color='Método', barmode='group', title=\"O método 2 tem o melhor tempo de execução\")\n",
        "\n",
        "# Exiba o gráfico\n",
        "fig.show()"
      ],
      "metadata": {
        "id": "HAR91Le3GXMp"
      },
      "execution_count": null,
      "outputs": []
    },
    {
      "cell_type": "markdown",
      "source": [
        "## ITEM B\n",
        "\n",
        "Para simular a execução do metodo2 em uma máquina 10 vezes mais lenta, modificar a instrução de sleep para TimeUnit.MILLISECONDS.sleep(10) apenas para este método, executar novamente o programa, alterar a planilha e copiar o gráfico respectivo neste documento. Neste novo experimento, qual método tem o melhor tempo de execução para n suficientemente grande: metodo2 ou metodo3? Explicar a que se deve este comportamento."
      ],
      "metadata": {
        "id": "z4-jEy-BHWUz"
      }
    },
    {
      "cell_type": "code",
      "source": [
        "df_lento_2_3_dados: list[dict] = getData(10, 0.01, [metodo2, metodo3])\n",
        "\n",
        "df_lento_2_3 = pd.DataFrame(df_lento_2_3_dados)\n",
        "\n",
        "df_lento_2_3.head(50)"
      ],
      "metadata": {
        "id": "_6x22anjJJk_"
      },
      "execution_count": null,
      "outputs": []
    },
    {
      "cell_type": "code",
      "source": [
        " df_lento_2_3_agrupado = df_lento_2_3.groupby(['Método','Parâmetro'])['Tempo de Execução (ms)'].mean().reset_index()\n",
        " fig = px.bar(df_lento_2_3_agrupado, x='Parâmetro', y='Tempo de Execução (ms)', color='Método', barmode='group', title=\"O método 2 tem o melhor tempo de execução\")\n",
        " fig.show()"
      ],
      "metadata": {
        "id": "ZKu8WbtzKL0H"
      },
      "execution_count": null,
      "outputs": []
    },
    {
      "cell_type": "markdown",
      "source": [
        "#PASSO 6\n",
        "\n",
        "Comparação de tempos de execução (métodos 4 e 5)"
      ],
      "metadata": {
        "id": "j1lkSXaoMTVn"
      }
    },
    {
      "cell_type": "markdown",
      "source": [
        "##ITEM A:\n",
        "\n",
        "Em seu experimento, qual método tem melhor tempo de execução: metodo4 ou metodo5?"
      ],
      "metadata": {
        "id": "oMTeRGWUMTVu"
      }
    },
    {
      "cell_type": "code",
      "source": [
        "# Crie uma máscara para selecionar apenas os métodos 2 e 3\n",
        "mascara = df['Método'].isin([\"metodo4\",\"metodo5\"])\n",
        "\n",
        "# Aplique a máscara para filtrar o dataframe\n",
        "df_filtrado = df[mascara]\n",
        "\n",
        "# Agrupe os dados por Método e Parâmetro e calcule a média dos tempos de execução\n",
        "df_agrupado = df_filtrado.groupby(['Método', 'Parâmetro'])['Tempo de Execução (ms)'].mean().reset_index()\n",
        "\n",
        "# Crie um gráfico de barras\n",
        "fig = px.bar(df_agrupado, x='Parâmetro', y='Tempo de Execução (ms)', color='Método', barmode='group', title=\"O método 2 tem o melhor tempo de execução\")\n",
        "\n",
        "# Exiba o gráfico\n",
        "fig.show()"
      ],
      "metadata": {
        "id": "_faBReVcMTVu"
      },
      "execution_count": null,
      "outputs": []
    },
    {
      "cell_type": "markdown",
      "source": [
        "## ITEM B\n",
        "\n",
        "Para simular a execução do metodo4 em uma máquina 10 vezes mais lenta, modificar a instrução de sleep para TimeUnit.MILLISECONDS.sleep(10) apenas para este método, executar novamente o programa, alterar a planilha e copiar o gráfico respectivo neste documento. Neste novo experimento, qual método tem o melhor tempo de execução para n suficientemente grande: metodo4 ou metodo5? Explicar a que se deve este comportamento."
      ],
      "metadata": {
        "id": "OcfkKeudMTVv"
      }
    },
    {
      "cell_type": "code",
      "source": [
        "df_lento_4_5_dados: list[dict] = getData(10, 0.01, [metodo4, metodo5])\n",
        "\n",
        "df_lento_4_5 = pd.DataFrame(df_lento_4_5_dados)\n",
        "\n",
        "df_lento_4_5.head(50)"
      ],
      "metadata": {
        "id": "rdbSfqK_MTVw"
      },
      "execution_count": null,
      "outputs": []
    },
    {
      "cell_type": "code",
      "source": [
        " df_lento_4_5_agrupado = df_lento_4_5.groupby(['Método','Parâmetro'])['Tempo de Execução (ms)'].mean().reset_index()\n",
        " fig = px.bar(df_lento_4_5_agrupado, x='Parâmetro', y='Tempo de Execução (ms)', color='Método', barmode='group', title=\"O método 2 tem o melhor tempo de execução\")\n",
        " fig.show()"
      ],
      "metadata": {
        "id": "xdEKrfQiMTVw"
      },
      "execution_count": null,
      "outputs": []
    }
  ]
}